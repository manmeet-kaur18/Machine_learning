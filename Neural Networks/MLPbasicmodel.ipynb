{
  "nbformat": 4,
  "nbformat_minor": 0,
  "metadata": {
    "kernelspec": {
      "display_name": "Python 3",
      "language": "python",
      "name": "python3"
    },
    "language_info": {
      "codemirror_mode": {
        "name": "ipython",
        "version": 3
      },
      "file_extension": ".py",
      "mimetype": "text/x-python",
      "name": "python",
      "nbconvert_exporter": "python",
      "pygments_lexer": "ipython3",
      "version": "3.7.1"
    },
    "colab": {
      "name": "MLPbasicmodel.ipynb",
      "provenance": [],
      "collapsed_sections": []
    }
  },
  "cells": [
    {
      "cell_type": "code",
      "metadata": {
        "id": "AMkHQdSJdJoi",
        "colab_type": "code",
        "colab": {
          "base_uri": "https://localhost:8080/",
          "height": 50
        },
        "outputId": "7f272cbf-6e26-493c-a4ce-7cc6a7a9ecc3"
      },
      "source": [
        "import pandas as pd\n",
        "import numpy as np\n",
        "from matplotlib import pyplot as plt\n",
        "from sklearn.datasets import make_moons,make_circles,make_classification\n",
        "\n",
        "dataset = 'xor'\n",
        "\n",
        "def load_dataset(dataset):\n",
        "    if dataset=='moons':\n",
        "        X,Y = make_moons(n_samples=500,noise=0.2,random_state=1)\n",
        "    elif dataset=='circles':\n",
        "        X,Y = make_circles(n_samples=500, shuffle=True, noise=0.2, random_state=1, factor=0.2)\n",
        "    elif dataset=='classification':\n",
        "        X,Y = make_classification(n_samples=500,n_classes=2,n_features=2,n_informative=2,n_redundant=0,random_state=1)\n",
        "    else:\n",
        "        #Create XOR Dataset\n",
        "        X = np.array([[0,0],\n",
        "                    [0,1],\n",
        "                    [1,0],\n",
        "                    [1,1]])\n",
        "        Y = np.array([0,1,1,0])\n",
        "        \n",
        "    return X,Y\n",
        "\n",
        "\n",
        "X,Y = load_dataset(dataset)\n",
        "print(X.shape)\n",
        "print(Y.shape)\n",
        "\n",
        "input_size = 2\n",
        "layers = [4,3]\n",
        "output_size = 2\n",
        "EPOCHS=50\n",
        "\n",
        "def softmax(a):\n",
        "    ea = np.exp(a)\n",
        "    return ea/np.sum(ea,axis=1,keepdims=True)\n",
        "\n"
      ],
      "execution_count": 7,
      "outputs": [
        {
          "output_type": "stream",
          "text": [
            "(4, 2)\n",
            "(4,)\n"
          ],
          "name": "stdout"
        }
      ]
    },
    {
      "cell_type": "code",
      "metadata": {
        "id": "JJ-iSYBAf2fv",
        "colab_type": "code",
        "colab": {}
      },
      "source": [
        "class NeuralNetwork:\n",
        "    def __init__(self,input_size,layers,output_size):\n",
        "        np.random.seed(0)\n",
        "        model = {}\n",
        "        model['W1'] = np.random.randn(input_size,layers[0]) \n",
        "        model['b1'] = np.zeros((1,layers[0]))\n",
        "        \n",
        "        model['W2'] = np.random.randn(layers[0],layers[1])\n",
        "        model['b2'] = np.zeros((1,layers[1]))\n",
        "        \n",
        "        model['W3'] = np.random.randn(layers[1],output_size)\n",
        "        model['b3'] = np.zeros((1,output_size))\n",
        "        \n",
        "        self.model = model\n",
        "        \n",
        "    def forward(self,x):\n",
        "\n",
        "        W1,W2,W3 = self.model['W1'],self.model['W2'],self.model['W3']\n",
        "        b1,b2,b3 = self.model['b1'],self.model['b2'],self.model['b3']\n",
        "        \n",
        "        z1 = np.dot(x,W1) + b1\n",
        "        a1 = np.tanh(z1)\n",
        "        \n",
        "        z2 = np.dot(a1,W2) + b2 \n",
        "        a2 = np.tanh(z2)\n",
        "        \n",
        "        z3 = np.dot(a2,W3) + b3\n",
        "        y_ = softmax(z3)\n",
        "        \n",
        "        #Store the outputs of each layer for back-propagation\n",
        "        self.activation_outputs = (a1,a2,y_)\n",
        "        \n",
        "        return y_\n",
        "\n",
        "    def backward(self,x,y,learning_rate=0.001):\n",
        "            \n",
        "            W1,W2,W3 = self.model['W1'],self.model['W2'],self.model['W3']\n",
        "            a1,a2,y_ = self.activation_outputs\n",
        "            \n",
        "            delta3 = y_ - y\n",
        "            \n",
        "            dw3 = np.dot(a2.T,delta3) #)h2+1,C) => (h2+1,m) X (m,C) \n",
        "            db3 = np.sum(delta3,axis=0)\n",
        "            \n",
        "            delta2 = (1-np.square(a2))*np.dot(delta3,W3.T)  #(m,h2+1) => (m,h2+1) *(m,C X C,h2+1)\n",
        "            dw2 = np.dot(a1.T,delta2)  \n",
        "            db2 = np.sum(delta2,axis=0)\n",
        "            \n",
        "            delta1 = (1-np.square(a1))*np.dot(delta2,W2.T) \n",
        "            dw1 = np.dot(X.T,delta1)\n",
        "            db1 = np.sum(delta1,axis=0)\n",
        "            \n",
        "            self.model['W1'] -= learning_rate*dw1\n",
        "            self.model['W2'] -= learning_rate*dw2\n",
        "            self.model['W3'] -= learning_rate*dw3\n",
        "            \n",
        "            self.model['b1'] -= learning_rate*db1\n",
        "            self.model['b2'] -= learning_rate*db2\n",
        "            self.model['b3'] -= learning_rate*db3\n",
        "    \n",
        "    def predict(self,x):\n",
        "        y_out = self.forward(x)\n",
        "        return np.argmax(y_out,axis=1)\n",
        "    \n",
        "    def summary(self):\n",
        "        W1,W2,W3 = self.model['W1'],self.model['W2'],self.model['W3']\n",
        "        a1,a2,y_ = self.activation_outputs\n",
        "        \n",
        "        print(\"W1 \",W1.shape)\n",
        "        print(\"A1 \",a1.shape)\n",
        "        \n",
        "        print(\"W2 \",W2.shape)\n",
        "        print(\"A2 \",a2.shape)\n",
        "        \n",
        "        print(\"W3 \",W3.shape)\n",
        "        print(\"Y_ \",y_.shape)       "
      ],
      "execution_count": 38,
      "outputs": []
    },
    {
      "cell_type": "code",
      "metadata": {
        "id": "xt9nfpTtgbQq",
        "colab_type": "code",
        "colab": {}
      },
      "source": [
        "def loss(y_oht,p):\n",
        "    l = -np.mean(y_oht*np.log(p))\n",
        "    return l    \n",
        "\n",
        "def one_hot(y,depth):\n",
        "    m = y.shape[0]\n",
        "    y_oht = np.zeros((m, depth))\n",
        "    y_oht[np.arange(m), y] = 1\n",
        "    return y_oht\n",
        "\n",
        "\n",
        "model = NeuralNetwork(input_size=2,layers=[4,3],output_size=2)"
      ],
      "execution_count": 39,
      "outputs": []
    },
    {
      "cell_type": "code",
      "metadata": {
        "id": "lc08g9Ukgk2B",
        "colab_type": "code",
        "colab": {}
      },
      "source": [
        "def train(X,Y,model,epochs,logs=True):\n",
        "    \"\"\"Creates and Model and Trains it!\"\"\"\n",
        "    \n",
        "    training_loss = []\n",
        "    val_loss = []\n",
        "    val_acc = []\n",
        "    \n",
        "    classes = len(np.unique(Y))\n",
        "    Y_OHT = one_hot(Y,classes)\n",
        "    \n",
        "    for ix in range(epochs):\n",
        "        Y_ = model.forward(X)\n",
        "        l = loss(Y_OHT,Y_)\n",
        "        training_loss.append(l)\n",
        "        model.backward(X,Y_OHT)\n",
        "        if(logs and ix%50==0):\n",
        "            print(\"Epoch %d Loss %.4f\"%(ix,l),end='\\n')\n",
        "    return training_loss"
      ],
      "execution_count": 33,
      "outputs": []
    },
    {
      "cell_type": "code",
      "metadata": {
        "id": "Vi3_ZMAkgrB-",
        "colab_type": "code",
        "colab": {
          "base_uri": "https://localhost:8080/",
          "height": 353
        },
        "outputId": "4622e9b9-5409-457f-9b6f-2033c72289c6"
      },
      "source": [
        "hist = train(X,Y,model,1000)"
      ],
      "execution_count": 40,
      "outputs": [
        {
          "output_type": "stream",
          "text": [
            "Epoch 0 Loss 0.9560\n",
            "Epoch 50 Loss 0.6608\n",
            "Epoch 100 Loss 0.5110\n",
            "Epoch 150 Loss 0.4157\n",
            "Epoch 200 Loss 0.3500\n",
            "Epoch 250 Loss 0.3054\n",
            "Epoch 300 Loss 0.2732\n",
            "Epoch 350 Loss 0.2479\n",
            "Epoch 400 Loss 0.2266\n",
            "Epoch 450 Loss 0.2080\n",
            "Epoch 500 Loss 0.1914\n",
            "Epoch 550 Loss 0.1766\n",
            "Epoch 600 Loss 0.1632\n",
            "Epoch 650 Loss 0.1512\n",
            "Epoch 700 Loss 0.1403\n",
            "Epoch 750 Loss 0.1305\n",
            "Epoch 800 Loss 0.1215\n",
            "Epoch 850 Loss 0.1135\n",
            "Epoch 900 Loss 0.1061\n",
            "Epoch 950 Loss 0.0994\n"
          ],
          "name": "stdout"
        }
      ]
    },
    {
      "cell_type": "code",
      "metadata": {
        "id": "T19tKeOCdJo6",
        "colab_type": "code",
        "colab": {
          "base_uri": "https://localhost:8080/",
          "height": 361
        },
        "outputId": "195053ef-651b-47fe-a1e7-6e4af132850b"
      },
      "source": [
        "import seaborn\n",
        "\n",
        "plt.style.use(\"seaborn\")\n",
        "plt.plot(hist)\n",
        "plt.xlabel(\"Epoch\")\n",
        "plt.ylabel(\"Loss\")\n",
        "plt.show()"
      ],
      "execution_count": 41,
      "outputs": [
        {
          "output_type": "display_data",
          "data": {
            "image/png": "[encoded data removed]",
            "text/plain": [
              "<Figure size 576x396 with 1 Axes>"
            ]
          },
          "metadata": {
            "tags": []
          }
        }
      ]
    },
    {
      "cell_type": "code",
      "metadata": {
        "id": "C8ErO8oSdJo9",
        "colab_type": "code",
        "colab": {
          "base_uri": "https://localhost:8080/",
          "height": 118
        },
        "outputId": "56df04e0-7a51-4d17-e39c-9896e2f5b6d8"
      },
      "source": [
        "model.summary()"
      ],
      "execution_count": 42,
      "outputs": [
        {
          "output_type": "stream",
          "text": [
            "W1  (2, 4)\n",
            "A1  (4, 4)\n",
            "W2  (4, 3)\n",
            "A2  (4, 3)\n",
            "W3  (3, 2)\n",
            "Y_  (4, 2)\n"
          ],
          "name": "stdout"
        }
      ]
    },
    {
      "cell_type": "code",
      "metadata": {
        "id": "gnhX7xecjiQz",
        "colab_type": "code",
        "colab": {
          "base_uri": "https://localhost:8080/",
          "height": 34
        },
        "outputId": "781a6f06-5fe9-4d8f-c653-f97406b35f40"
      },
      "source": [
        "outputs = model.predict(X)\n",
        "training_accuracy = np.sum(outputs==Y)/Y.shape[0]\n",
        "print(\"Training Accuracy %.4f\"%(training_accuracy*100))"
      ],
      "execution_count": 45,
      "outputs": [
        {
          "output_type": "stream",
          "text": [
            "Training Accuracy 100.0000\n"
          ],
          "name": "stdout"
        }
      ]
    }
  ]
}