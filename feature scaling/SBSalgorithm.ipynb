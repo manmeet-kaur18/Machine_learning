{
 "cells": [
  {
   "cell_type": "code",
   "execution_count": 19,
   "metadata": {},
   "outputs": [
    {
     "name": "stdout",
     "output_type": "stream",
     "text": [
      "Class labels [1 2 3]\n"
     ]
    }
   ],
   "source": [
    "import pandas as pd\n",
    "import numpy as np\n",
    "df_wine = pd.read_csv('https://archive.ics.uci.edu/ml/'\n",
    "'machine-learning-databases/wine/wine.data',\n",
    "header=None)\n",
    "df_wine.columns = ['Class label', 'Alcohol','Malic acid', 'Ash','Alcalinity of ash', 'Magnesium','Total phenols', 'Flavanoids','Nonflavanoid phenols','Proanthocyanins','Color intensity', 'Hue','OD280/OD315 of diluted wines','Proline']\n",
    "print('Class labels', np.unique(df_wine['Class label']))\n",
    "from sklearn.model_selection import train_test_split\n",
    "X, y = df_wine.iloc[:, 1:].values, df_wine.iloc[:, 0].values\n",
    "X_train, X_test, y_train, y_test =train_test_split(X, y,test_size=0.3,random_state=0,stratify=y)\n",
    "from sklearn.preprocessing import StandardScaler\n",
    "stdsc = StandardScaler()\n",
    "X_train_std = stdsc.fit_transform(X_train)\n",
    "X_test_std = stdsc.transform(X_test)"
   ]
  },
  {
   "cell_type": "code",
   "execution_count": 28,
   "metadata": {},
   "outputs": [],
   "source": [
    "from sklearn.base import clone\n",
    "from itertools import combinations\n",
    "import numpy as np\n",
    "from sklearn.metrics import accuracy_score\n",
    "from sklearn.model_selection import train_test_split\n",
    "class SBS():\n",
    "    def __init__(self, estimator, k_features,\n",
    "        scoring=accuracy_score,\n",
    "        test_size=0.25, random_state=1):\n",
    "        self.scoring = scoring\n",
    "        self.estimator = clone(estimator)\n",
    "        self.k_features = k_features\n",
    "        self.test_size = test_size\n",
    "        self.random_state = random_state\n",
    "\n",
    "    def fit(self, X, y):\n",
    "        X_train, X_test, y_train, y_test = train_test_split(X, y, test_size=self.test_size,\n",
    "        random_state=self.random_state)\n",
    "        dim = X_train.shape[1]\n",
    "        self.indices_ = tuple(range(dim))\n",
    "        self.subsets_ = [self.indices_]\n",
    "        score = self._calc_score(X_train, y_train,\n",
    "        X_test, y_test, self.indices_)\n",
    "        self.scores_ = [score]\n",
    "        while dim > self.k_features:\n",
    "            scores = []\n",
    "            subsets = []\n",
    "            for p in combinations(self.indices_, r=dim - 1):\n",
    "                score = self._calc_score(X_train, y_train,\n",
    "                X_test, y_test, p)\n",
    "                scores.append(score)\n",
    "                subsets.append(p)\n",
    "                best = np.argmax(scores)\n",
    "                self.indices_ = subsets[best]\n",
    "            print(\"subsets s formed after dim : \"+str(dim))\n",
    "            print(subsets)\n",
    "            print(\"best subsets are for dim :\" +str(dim))\n",
    "            self.subsets_.append(self.indices_)\n",
    "            print(self.indices_)\n",
    "            dim -= 1\n",
    "            self.scores_.append(scores[best])\n",
    "        self.k_score_ = self.scores_[-1]\n",
    "        print(self.subsets_)\n",
    "        return self\n",
    "    \n",
    "    def transform(self, X):\n",
    "        return X[:, self.indices_]\n",
    "    def _calc_score(self, X_train, y_train, X_test, y_test,indices):\n",
    "        self.estimator.fit(X_train[:, indices], y_train)\n",
    "        y_pred = self.estimator.predict(X_test[:, indices])\n",
    "        score = self.scoring(y_test, y_pred)\n",
    "        return score"
   ]
  },
  {
   "cell_type": "code",
   "execution_count": 29,
   "metadata": {},
   "outputs": [
    {
     "name": "stdout",
     "output_type": "stream",
     "text": [
      "subsets s formed after dim : 13\n",
      "[(0, 1, 2, 3, 4, 5, 6, 7, 8, 9, 10, 11), (0, 1, 2, 3, 4, 5, 6, 7, 8, 9, 10, 12), (0, 1, 2, 3, 4, 5, 6, 7, 8, 9, 11, 12), (0, 1, 2, 3, 4, 5, 6, 7, 8, 10, 11, 12), (0, 1, 2, 3, 4, 5, 6, 7, 9, 10, 11, 12), (0, 1, 2, 3, 4, 5, 6, 8, 9, 10, 11, 12), (0, 1, 2, 3, 4, 5, 7, 8, 9, 10, 11, 12), (0, 1, 2, 3, 4, 6, 7, 8, 9, 10, 11, 12), (0, 1, 2, 3, 5, 6, 7, 8, 9, 10, 11, 12), (0, 1, 2, 4, 5, 6, 7, 8, 9, 10, 11, 12), (0, 1, 3, 4, 5, 6, 7, 8, 9, 10, 11, 12), (0, 2, 3, 4, 5, 6, 7, 8, 9, 10, 11, 12), (1, 2, 3, 4, 5, 6, 7, 8, 9, 10, 11, 12)]\n",
      "best subsets are for dim :13\n",
      "(0, 1, 2, 3, 4, 5, 6, 7, 9, 10, 11, 12)\n",
      "subsets s formed after dim : 12\n",
      "[(0, 1, 2, 3, 4, 5, 6, 7, 9, 10, 11), (0, 1, 2, 3, 4, 5, 6, 7, 9, 10, 12), (0, 1, 2, 3, 4, 5, 6, 7, 9, 11, 12), (0, 1, 2, 3, 4, 5, 6, 7, 10, 11, 12), (0, 1, 2, 3, 4, 5, 6, 9, 10, 11, 12), (0, 1, 2, 3, 4, 5, 7, 9, 10, 11, 12), (0, 1, 2, 3, 4, 6, 7, 9, 10, 11, 12), (0, 1, 2, 3, 5, 6, 7, 9, 10, 11, 12), (0, 1, 2, 4, 5, 6, 7, 9, 10, 11, 12), (0, 1, 3, 4, 5, 6, 7, 9, 10, 11, 12), (0, 2, 3, 4, 5, 6, 7, 9, 10, 11, 12), (1, 2, 3, 4, 5, 6, 7, 9, 10, 11, 12)]\n",
      "best subsets are for dim :12\n",
      "(0, 1, 2, 3, 4, 5, 6, 7, 9, 10, 11)\n",
      "subsets s formed after dim : 11\n",
      "[(0, 1, 2, 3, 4, 5, 6, 7, 9, 10), (0, 1, 2, 3, 4, 5, 6, 7, 9, 11), (0, 1, 2, 3, 4, 5, 6, 7, 10, 11), (0, 1, 2, 3, 4, 5, 6, 9, 10, 11), (0, 1, 2, 3, 4, 5, 7, 9, 10, 11), (0, 1, 2, 3, 4, 6, 7, 9, 10, 11), (0, 1, 2, 3, 5, 6, 7, 9, 10, 11), (0, 1, 2, 4, 5, 6, 7, 9, 10, 11), (0, 1, 3, 4, 5, 6, 7, 9, 10, 11), (0, 2, 3, 4, 5, 6, 7, 9, 10, 11), (1, 2, 3, 4, 5, 6, 7, 9, 10, 11)]\n",
      "best subsets are for dim :11\n",
      "(0, 1, 2, 3, 4, 5, 6, 7, 9, 11)\n",
      "subsets s formed after dim : 10\n",
      "[(0, 1, 2, 3, 4, 5, 6, 7, 9), (0, 1, 2, 3, 4, 5, 6, 7, 11), (0, 1, 2, 3, 4, 5, 6, 9, 11), (0, 1, 2, 3, 4, 5, 7, 9, 11), (0, 1, 2, 3, 4, 6, 7, 9, 11), (0, 1, 2, 3, 5, 6, 7, 9, 11), (0, 1, 2, 4, 5, 6, 7, 9, 11), (0, 1, 3, 4, 5, 6, 7, 9, 11), (0, 2, 3, 4, 5, 6, 7, 9, 11), (1, 2, 3, 4, 5, 6, 7, 9, 11)]\n",
      "best subsets are for dim :10\n",
      "(0, 1, 2, 3, 4, 5, 7, 9, 11)\n",
      "subsets s formed after dim : 9\n",
      "[(0, 1, 2, 3, 4, 5, 7, 9), (0, 1, 2, 3, 4, 5, 7, 11), (0, 1, 2, 3, 4, 5, 9, 11), (0, 1, 2, 3, 4, 7, 9, 11), (0, 1, 2, 3, 5, 7, 9, 11), (0, 1, 2, 4, 5, 7, 9, 11), (0, 1, 3, 4, 5, 7, 9, 11), (0, 2, 3, 4, 5, 7, 9, 11), (1, 2, 3, 4, 5, 7, 9, 11)]\n",
      "best subsets are for dim :9\n",
      "(0, 1, 2, 3, 5, 7, 9, 11)\n",
      "subsets s formed after dim : 8\n",
      "[(0, 1, 2, 3, 5, 7, 9), (0, 1, 2, 3, 5, 7, 11), (0, 1, 2, 3, 5, 9, 11), (0, 1, 2, 3, 7, 9, 11), (0, 1, 2, 5, 7, 9, 11), (0, 1, 3, 5, 7, 9, 11), (0, 2, 3, 5, 7, 9, 11), (1, 2, 3, 5, 7, 9, 11)]\n",
      "best subsets are for dim :8\n",
      "(0, 1, 2, 3, 5, 7, 11)\n",
      "subsets s formed after dim : 7\n",
      "[(0, 1, 2, 3, 5, 7), (0, 1, 2, 3, 5, 11), (0, 1, 2, 3, 7, 11), (0, 1, 2, 5, 7, 11), (0, 1, 3, 5, 7, 11), (0, 2, 3, 5, 7, 11), (1, 2, 3, 5, 7, 11)]\n",
      "best subsets are for dim :7\n",
      "(0, 1, 2, 3, 5, 11)\n",
      "subsets s formed after dim : 6\n",
      "[(0, 1, 2, 3, 5), (0, 1, 2, 3, 11), (0, 1, 2, 5, 11), (0, 1, 3, 5, 11), (0, 2, 3, 5, 11), (1, 2, 3, 5, 11)]\n",
      "best subsets are for dim :6\n",
      "(0, 1, 2, 3, 11)\n",
      "subsets s formed after dim : 5\n",
      "[(0, 1, 2, 3), (0, 1, 2, 11), (0, 1, 3, 11), (0, 2, 3, 11), (1, 2, 3, 11)]\n",
      "best subsets are for dim :5\n",
      "(0, 1, 2, 11)\n",
      "subsets s formed after dim : 4\n",
      "[(0, 1, 2), (0, 1, 11), (0, 2, 11), (1, 2, 11)]\n",
      "best subsets are for dim :4\n",
      "(0, 1, 11)\n",
      "subsets s formed after dim : 3\n",
      "[(0, 1), (0, 11), (1, 11)]\n",
      "best subsets are for dim :3\n",
      "(0, 11)\n",
      "subsets s formed after dim : 2\n",
      "[(0,), (11,)]\n",
      "best subsets are for dim :2\n",
      "(0,)\n",
      "[(0, 1, 2, 3, 4, 5, 6, 7, 8, 9, 10, 11, 12), (0, 1, 2, 3, 4, 5, 6, 7, 9, 10, 11, 12), (0, 1, 2, 3, 4, 5, 6, 7, 9, 10, 11), (0, 1, 2, 3, 4, 5, 6, 7, 9, 11), (0, 1, 2, 3, 4, 5, 7, 9, 11), (0, 1, 2, 3, 5, 7, 9, 11), (0, 1, 2, 3, 5, 7, 11), (0, 1, 2, 3, 5, 11), (0, 1, 2, 3, 11), (0, 1, 2, 11), (0, 1, 11), (0, 11), (0,)]\n"
     ]
    },
    {
     "data": {
      "text/plain": [
       "<__main__.SBS at 0x21894180518>"
      ]
     },
     "execution_count": 29,
     "metadata": {},
     "output_type": "execute_result"
    }
   ],
   "source": [
    "import matplotlib.pyplot as plt\n",
    "from sklearn.neighbors import KNeighborsClassifier\n",
    "knn = KNeighborsClassifier(n_neighbors=5)\n",
    "sbs = SBS(knn, k_features=1)\n",
    "sbs.fit(X_train_std, y_train)"
   ]
  },
  {
   "cell_type": "code",
   "execution_count": 26,
   "metadata": {},
   "outputs": [
    {
     "data": {
      "text/plain": [
       "0.7741935483870968"
      ]
     },
     "execution_count": 26,
     "metadata": {},
     "output_type": "execute_result"
    }
   ],
   "source": [
    "sbs.k_score_"
   ]
  },
  {
   "cell_type": "code",
   "execution_count": 27,
   "metadata": {},
   "outputs": [
    {
     "data": {
      "text/plain": [
       "[0.967741935483871,\n",
       " 1.0,\n",
       " 1.0,\n",
       " 1.0,\n",
       " 1.0,\n",
       " 1.0,\n",
       " 1.0,\n",
       " 0.967741935483871,\n",
       " 0.967741935483871,\n",
       " 0.967741935483871,\n",
       " 1.0,\n",
       " 0.9354838709677419,\n",
       " 0.7741935483870968]"
      ]
     },
     "execution_count": 27,
     "metadata": {},
     "output_type": "execute_result"
    }
   ],
   "source": [
    "sbs.scores_"
   ]
  },
  {
   "cell_type": "code",
   "execution_count": 16,
   "metadata": {},
   "outputs": [
    {
     "data": {
      "text/plain": [
       "(0, 1, 11)"
      ]
     },
     "execution_count": 16,
     "metadata": {},
     "output_type": "execute_result"
    }
   ],
   "source": [
    "sbs.subsets_[10]"
   ]
  },
  {
   "cell_type": "code",
   "execution_count": 17,
   "metadata": {},
   "outputs": [
    {
     "name": "stdout",
     "output_type": "stream",
     "text": [
      "Index(['Alcohol', 'Malic acid', 'OD280/OD315 of diluted wines'], dtype='object')\n"
     ]
    }
   ],
   "source": [
    "k3 = list(sbs.subsets_[10])\n",
    "print(df_wine.columns[1:][k3])"
   ]
  },
  {
   "cell_type": "code",
   "execution_count": 18,
   "metadata": {},
   "outputs": [
    {
     "name": "stdout",
     "output_type": "stream",
     "text": [
      "Training accuracy: 0.967741935483871\n",
      "Test accuracy: 0.9629629629629629\n"
     ]
    }
   ],
   "source": [
    "knn.fit(X_train_std, y_train)\n",
    "print('Training accuracy:', knn.score(X_train_std, y_train))\n",
    "print('Test accuracy:', knn.score(X_test_std, y_test))"
   ]
  }
 ],
 "metadata": {
  "kernelspec": {
   "display_name": "Python 3",
   "language": "python",
   "name": "python3"
  },
  "language_info": {
   "codemirror_mode": {
    "name": "ipython",
    "version": 3
   },
   "file_extension": ".py",
   "mimetype": "text/x-python",
   "name": "python",
   "nbconvert_exporter": "python",
   "pygments_lexer": "ipython3",
   "version": "3.7.1"
  }
 },
 "nbformat": 4,
 "nbformat_minor": 2
}
