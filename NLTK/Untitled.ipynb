{
 "cells": [
  {
   "cell_type": "code",
   "execution_count": 1,
   "metadata": {},
   "outputs": [],
   "source": [
    "import nltk"
   ]
  },
  {
   "cell_type": "code",
   "execution_count": 2,
   "metadata": {},
   "outputs": [
    {
     "name": "stdout",
     "output_type": "stream",
     "text": [
      "showing info https://raw.githubusercontent.com/nltk/nltk_data/gh-pages/index.xml\n"
     ]
    },
    {
     "data": {
      "text/plain": [
       "True"
      ]
     },
     "execution_count": 2,
     "metadata": {},
     "output_type": "execute_result"
    }
   ],
   "source": [
    "nltk.download()"
   ]
  },
  {
   "cell_type": "code",
   "execution_count": 7,
   "metadata": {},
   "outputs": [],
   "source": [
    "from nltk.corpus import brown\n",
    "brown.categories()\n",
    "data = brown.sents(categories='fiction')"
   ]
  },
  {
   "cell_type": "code",
   "execution_count": 8,
   "metadata": {},
   "outputs": [
    {
     "data": {
      "text/plain": [
       "['Scotty', 'did', 'not', 'go', 'back', 'to', 'school', '.']"
      ]
     },
     "execution_count": 8,
     "metadata": {},
     "output_type": "execute_result"
    }
   ],
   "source": [
    "data[1]"
   ]
  },
  {
   "cell_type": "markdown",
   "metadata": {},
   "source": [
    "# Bag of Words Pipeline"
   ]
  },
  {
   "cell_type": "code",
   "execution_count": 9,
   "metadata": {},
   "outputs": [],
   "source": [
    "document = \"\"\"it was a very pleasant day, The weather was cool and there were light showers. I went to the market to buy some fruits\"\"\"\n",
    "from nltk.tokenize import sent_tokenize,word_tokenize    "
   ]
  },
  {
   "cell_type": "code",
   "execution_count": 10,
   "metadata": {},
   "outputs": [
    {
     "name": "stdout",
     "output_type": "stream",
     "text": [
      "['it was a very pleasant day, The weather was cool and there were light showers.', 'I went to the market to buy some fruits']\n"
     ]
    }
   ],
   "source": [
    "sents = sent_tokenize(document)\n",
    "print(sents)"
   ]
  },
  {
   "cell_type": "code",
   "execution_count": 12,
   "metadata": {},
   "outputs": [
    {
     "data": {
      "text/plain": [
       "['Send',\n",
       " 'all',\n",
       " 'the',\n",
       " '50',\n",
       " 'documents',\n",
       " 'realted',\n",
       " 'to',\n",
       " 'chapters',\n",
       " '1,2,3',\n",
       " 'at',\n",
       " 'manmeet@gmail.com']"
      ]
     },
     "execution_count": 12,
     "metadata": {},
     "output_type": "execute_result"
    }
   ],
   "source": [
    "sentence = \"Send all the 50 documents realted to chapters 1,2,3 at manmeet@gmail.com\"\n",
    "sentence.split()"
   ]
  },
  {
   "cell_type": "code",
   "execution_count": 13,
   "metadata": {},
   "outputs": [],
   "source": [
    "words = word_tokenize(sentence)"
   ]
  },
  {
   "cell_type": "code",
   "execution_count": 14,
   "metadata": {},
   "outputs": [
    {
     "name": "stdout",
     "output_type": "stream",
     "text": [
      "['Send', 'all', 'the', '50', 'documents', 'realted', 'to', 'chapters', '1,2,3', 'at', 'manmeet', '@', 'gmail.com']\n"
     ]
    }
   ],
   "source": [
    "print(words)"
   ]
  },
  {
   "cell_type": "markdown",
   "metadata": {},
   "source": [
    "# Stopwords"
   ]
  },
  {
   "cell_type": "code",
   "execution_count": 16,
   "metadata": {},
   "outputs": [
    {
     "name": "stdout",
     "output_type": "stream",
     "text": [
      "{'than', 'nor', 'by', 'doing', 'are', \"aren't\", \"you've\", 'her', 'itself', 'both', 'shan', 'will', 'been', 'hers', 'at', 'an', 'after', 'my', 'ours', 'this', \"hadn't\", 'our', 'its', \"that'll\", 'were', 'under', \"couldn't\", 'in', \"won't\", 'what', 'up', 'was', 'doesn', 'on', 'yourself', 'd', 'have', 'all', 'and', 'where', 'above', 'about', 'out', \"hasn't\", 't', 'your', 'his', 'y', 'just', 'only', 'haven', 're', \"mightn't\", 'more', 'is', 'of', 'herself', 'very', 'the', \"shan't\", 'mightn', 'himself', 'yourselves', 'aren', 'should', \"you'd\", 'no', 'you', 'me', 'yours', \"it's\", 'not', 'between', 'too', \"you're\", \"didn't\", 'so', \"wasn't\", 'wouldn', 'themselves', 'm', 'further', 'myself', 'hasn', 'there', 'each', \"haven't\", 'she', 'him', 'had', 'down', 'any', 'own', 'it', 'how', 'whom', 'over', 'them', 'can', 'into', 'shouldn', 'again', \"needn't\", \"shouldn't\", 'weren', 'wasn', 'won', 'if', 'ain', 'once', 'o', 'through', \"you'll\", 'that', 'couldn', 'now', 'has', 'then', 'being', 'off', 'or', \"mustn't\", 'other', 'mustn', \"weren't\", 'does', 'having', 'because', 'to', 'didn', 'which', 'during', 'most', 'hadn', \"wouldn't\", 'these', 'against', 'll', 'isn', 'until', 'here', 'their', 'few', 'needn', 'ourselves', 'ma', 'before', 'do', 'who', 'a', 'those', \"she's\", 'below', 's', 'while', 'with', 'from', 'same', \"don't\", 'when', 've', 'such', 'be', 'theirs', 'don', 'for', 'as', 'am', 'but', 'we', 'did', \"doesn't\", 'why', \"should've\", 'he', 'they', 'some', \"isn't\", 'i'}\n"
     ]
    }
   ],
   "source": [
    "from nltk.corpus import stopwords\n",
    "sw = set(stopwords.words('english'))\n",
    "print(sw)"
   ]
  },
  {
   "cell_type": "code",
   "execution_count": 22,
   "metadata": {},
   "outputs": [
    {
     "name": "stdout",
     "output_type": "stream",
     "text": [
      "['bothered', 'much']\n"
     ]
    }
   ],
   "source": [
    "def remove_stopwords(text,stopwords):\n",
    "    useful_words = [w for w in text if w not in stopwords]\n",
    "    return useful_words\n",
    "text = \"i am not bothered about her very much\".split()\n",
    "useful_text = remove_stopwords(text,sw)\n",
    "print(useful_text)"
   ]
  },
  {
   "cell_type": "code",
   "execution_count": 24,
   "metadata": {},
   "outputs": [
    {
     "data": {
      "text/plain": [
       "True"
      ]
     },
     "execution_count": 24,
     "metadata": {},
     "output_type": "execute_result"
    }
   ],
   "source": [
    "'i' in sw # I is not in useful words"
   ]
  },
  {
   "cell_type": "markdown",
   "metadata": {},
   "source": [
    "# Tokenize using Regular Expression"
   ]
  },
  {
   "cell_type": "code",
   "execution_count": 25,
   "metadata": {},
   "outputs": [
    {
     "data": {
      "text/plain": [
       "['Send',\n",
       " 'all',\n",
       " 'the',\n",
       " '50',\n",
       " 'documents',\n",
       " 'realted',\n",
       " 'to',\n",
       " 'chapters',\n",
       " '1,2,3',\n",
       " 'at',\n",
       " 'manmeet@gmail.com']"
      ]
     },
     "execution_count": 25,
     "metadata": {},
     "output_type": "execute_result"
    }
   ],
   "source": [
    "sentence = \"Send all the 50 documents realted to chapters 1,2,3 at manmeet@gmail.com\"\n",
    "sentence.split()"
   ]
  },
  {
   "cell_type": "code",
   "execution_count": 28,
   "metadata": {},
   "outputs": [
    {
     "name": "stdout",
     "output_type": "stream",
     "text": [
      "['Send', 'all', 'the', 'documents', 'realted', 'to', 'chapters', 'at', 'manmeet@gmail.com']\n"
     ]
    }
   ],
   "source": [
    "from nltk.tokenize import RegexpTokenizer\n",
    "tokenizer = RegexpTokenizer('[a-zA-Z@.]+')\n",
    "useful_text = tokenizer.tokenize(sentence)\n",
    "print(useful_text)"
   ]
  },
  {
   "cell_type": "markdown",
   "metadata": {},
   "source": [
    "# Stemming \n",
    "    process that transforms particular words into their radical form\n",
    "    Preserve the semantics of sentence without increasing the number of  unique features"
   ]
  },
  {
   "cell_type": "code",
   "execution_count": 29,
   "metadata": {},
   "outputs": [],
   "source": [
    "sentence = \"\"\"Foxes love to make jumps. The quick fox was seen jumping over the lovely dog from a 6ft high wall\"\"\""
   ]
  },
  {
   "cell_type": "code",
   "execution_count": 32,
   "metadata": {},
   "outputs": [
    {
     "name": "stdout",
     "output_type": "stream",
     "text": [
      "jump\n",
      "love\n"
     ]
    }
   ],
   "source": [
    "from nltk.stem.snowball import SnowballStemmer, PorterStemmer\n",
    "from nltk.stem.lancaster import LancasterStemmer\n",
    "ps = PorterStemmer()\n",
    "print(ps.stem('jumping'))\n",
    "print(ps.stem('lovely'))"
   ]
  },
  {
   "cell_type": "code",
   "execution_count": 33,
   "metadata": {},
   "outputs": [
    {
     "data": {
      "text/plain": [
       "'love'"
      ]
     },
     "execution_count": 33,
     "metadata": {},
     "output_type": "execute_result"
    }
   ],
   "source": [
    "ss = SnowballStemmer('english')\n",
    "ss.stem('lovely')"
   ]
  },
  {
   "cell_type": "code",
   "execution_count": null,
   "metadata": {},
   "outputs": [],
   "source": [
    "## Lemitization\n",
    "from nltk.stem import WordNetLemmitizer\n",
    "wm = WordNetLemmitizer()\n",
    "wm.lemmatize('jumping')"
   ]
  },
  {
   "cell_type": "markdown",
   "metadata": {},
   "source": [
    "# Builiding Vocab And Vectorization"
   ]
  },
  {
   "cell_type": "code",
   "execution_count": 39,
   "metadata": {},
   "outputs": [],
   "source": [
    "corpus = [\n",
    "    'Indian cricket team will wins World Cup. Virat Kohli,World Cup will be held at Sri Lanka',\n",
    "    'We will win next Lok Sabha Elections, says confident Indian PM',\n",
    "    'The nobel laurate won the hearts of the people'\n",
    "    'The movie Razzi is an exciting Indian Spy thriller based upon a real story'\n",
    "]"
   ]
  },
  {
   "cell_type": "code",
   "execution_count": 42,
   "metadata": {},
   "outputs": [
    {
     "data": {
      "text/plain": [
       "array([0, 1, 0, 1, 0, 1, 2, 0, 0, 0, 1, 1, 0, 1, 1, 0, 0, 0, 0, 0, 0, 0,\n",
       "       0, 0, 0, 0, 0, 0, 1, 0, 1, 0, 0, 0, 1, 0, 2, 0, 1, 0, 2],\n",
       "      dtype=int64)"
      ]
     },
     "execution_count": 42,
     "metadata": {},
     "output_type": "execute_result"
    }
   ],
   "source": [
    "from sklearn.feature_extraction.text import CountVectorizer\n",
    "cv = CountVectorizer()\n",
    "vectorized_corpus = cv.fit_transform(corpus)\n",
    "# print(vectorized_corpus)\n",
    "vectorized_corpus = vectorized_corpus.toarray()\n",
    "vectorized_corpus[0]"
   ]
  },
  {
   "cell_type": "code",
   "execution_count": 44,
   "metadata": {},
   "outputs": [
    {
     "data": {
      "text/plain": [
       "{'indian': 11,\n",
       " 'cricket': 5,\n",
       " 'team': 30,\n",
       " 'will': 36,\n",
       " 'wins': 38,\n",
       " 'world': 40,\n",
       " 'cup': 6,\n",
       " 'virat': 34,\n",
       " 'kohli': 13,\n",
       " 'be': 3,\n",
       " 'held': 10,\n",
       " 'at': 1,\n",
       " 'sri': 28,\n",
       " 'lanka': 14,\n",
       " 'we': 35,\n",
       " 'win': 37,\n",
       " 'next': 18,\n",
       " 'lok': 16,\n",
       " 'sabha': 25,\n",
       " 'elections': 7,\n",
       " 'says': 26,\n",
       " 'confident': 4,\n",
       " 'pm': 22,\n",
       " 'the': 31,\n",
       " 'nobel': 19,\n",
       " 'laurate': 15,\n",
       " 'won': 39,\n",
       " 'hearts': 9,\n",
       " 'of': 20,\n",
       " 'peoplethe': 21,\n",
       " 'movie': 17,\n",
       " 'razzi': 23,\n",
       " 'is': 12,\n",
       " 'an': 0,\n",
       " 'exciting': 8,\n",
       " 'spy': 27,\n",
       " 'thriller': 32,\n",
       " 'based': 2,\n",
       " 'upon': 33,\n",
       " 'real': 24,\n",
       " 'story': 29}"
      ]
     },
     "execution_count": 44,
     "metadata": {},
     "output_type": "execute_result"
    }
   ],
   "source": [
    "cv.vocabulary_"
   ]
  },
  {
   "cell_type": "markdown",
   "metadata": {},
   "source": [
    "# Tf-idf Normlization"
   ]
  },
  {
   "cell_type": "code",
   "execution_count": 47,
   "metadata": {},
   "outputs": [],
   "source": [
    "sent_1 = \"this is good movie\"\n",
    "sent_2 = \"this was good movie\"\n",
    "sent_3 = \"this is not good movie\"\n",
    "corpus = [sent_1,sent_2,sent_3]\n",
    "from sklearn.feature_extraction.text import TfidfVectorizer"
   ]
  },
  {
   "cell_type": "code",
   "execution_count": 50,
   "metadata": {},
   "outputs": [],
   "source": [
    "tfidf = TfidfVectorizer()"
   ]
  },
  {
   "cell_type": "code",
   "execution_count": 53,
   "metadata": {},
   "outputs": [
    {
     "name": "stdout",
     "output_type": "stream",
     "text": [
      "[[0.46333427 0.59662724 0.46333427 0.         0.46333427 0.        ]\n",
      " [0.41285857 0.         0.41285857 0.         0.41285857 0.69903033]\n",
      " [0.3645444  0.46941728 0.3645444  0.61722732 0.3645444  0.        ]]\n"
     ]
    }
   ],
   "source": [
    "vc = tfidf.fit_transform(corpus).toarray()\n",
    "print(vc)"
   ]
  },
  {
   "cell_type": "code",
   "execution_count": 54,
   "metadata": {},
   "outputs": [
    {
     "data": {
      "text/plain": [
       "{'this': 4, 'is': 1, 'good': 0, 'movie': 2, 'was': 5, 'not': 3}"
      ]
     },
     "execution_count": 54,
     "metadata": {},
     "output_type": "execute_result"
    }
   ],
   "source": [
    "tfidf.vocabulary_"
   ]
  },
  {
   "cell_type": "markdown",
   "metadata": {},
   "source": [
    "# More Ways to Create Features"
   ]
  },
  {
   "cell_type": "markdown",
   "metadata": {},
   "source": [
    "#### Unigrams,Bigrams,Trigrams,n-grams"
   ]
  },
  {
   "cell_type": "code",
   "execution_count": 55,
   "metadata": {},
   "outputs": [
    {
     "data": {
      "text/plain": [
       "array([[1, 1, 1, 0, 1],\n",
       "       [1, 1, 1, 1, 1]], dtype=int64)"
      ]
     },
     "execution_count": 55,
     "metadata": {},
     "output_type": "execute_result"
    }
   ],
   "source": [
    "sent_1 = \"this is good movie\"\n",
    "sent_2 = \"this is not good movie\"\n",
    "docs = [sent_1,sent_2]\n",
    "cv.fit_transform(docs).toarray()\n",
    "## here capturing negation is quite difficult"
   ]
  },
  {
   "cell_type": "code",
   "execution_count": 58,
   "metadata": {},
   "outputs": [
    {
     "name": "stdout",
     "output_type": "stream",
     "text": [
      "{'this': 4, 'is': 1, 'good': 0, 'movie': 2, 'not': 3}\n"
     ]
    }
   ],
   "source": [
    "cv = CountVectorizer(ngram_range=(1,1))\n",
    "cv.fit_transform(docs).toarray()\n",
    "print(cv.vocabulary_)"
   ]
  },
  {
   "cell_type": "code",
   "execution_count": 59,
   "metadata": {},
   "outputs": [
    {
     "name": "stdout",
     "output_type": "stream",
     "text": [
      "{'this': 11, 'is': 2, 'good': 0, 'movie': 7, 'this is': 12, 'is good': 3, 'good movie': 1, 'this is good': 13, 'is good movie': 4, 'not': 8, 'is not': 5, 'not good': 9, 'this is not': 14, 'is not good': 6, 'not good movie': 10}\n"
     ]
    }
   ],
   "source": [
    "cv = CountVectorizer(ngram_range=(1,3))\n",
    "cv.fit_transform(docs).toarray()\n",
    "print(cv.vocabulary_)"
   ]
  }
 ],
 "metadata": {
  "kernelspec": {
   "display_name": "Python 3",
   "language": "python",
   "name": "python3"
  },
  "language_info": {
   "codemirror_mode": {
    "name": "ipython",
    "version": 3
   },
   "file_extension": ".py",
   "mimetype": "text/x-python",
   "name": "python",
   "nbconvert_exporter": "python",
   "pygments_lexer": "ipython3",
   "version": "3.7.1"
  }
 },
 "nbformat": 4,
 "nbformat_minor": 2
}
