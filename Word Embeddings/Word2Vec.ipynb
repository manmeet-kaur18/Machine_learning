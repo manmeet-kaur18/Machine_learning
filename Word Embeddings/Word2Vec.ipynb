{
  "nbformat": 4,
  "nbformat_minor": 0,
  "metadata": {
    "colab": {
      "name": "Word2Vec.ipynb",
      "provenance": []
    },
    "kernelspec": {
      "name": "python3",
      "display_name": "Python 3"
    },
    "accelerator": "TPU"
  },
  "cells": [
    {
      "cell_type": "code",
      "metadata": {
        "id": "pU9GfHXNqHB_",
        "colab_type": "code",
        "colab": {}
      },
      "source": [
        "from google.colab import files\n",
        "from io import BytesIO\n",
        "from PIL import Image\n",
        "uploaded = files.upload()\n",
        "\n",
        "for fn in uploaded.keys():\n",
        "  print('User uploaded file \"{name}\" with length {length} bytes'.format(\n",
        "      name=fn, length=len(uploaded[fn])))"
      ],
      "execution_count": null,
      "outputs": []
    },
    {
      "cell_type": "code",
      "metadata": {
        "id": "I8KzFIh0onGD",
        "colab_type": "code",
        "colab": {}
      },
      "source": [
        "import zipfile\n",
        "with zipfile.ZipFile(\"GoogleNews-vectors-negative300.bin\", 'r') as zip_ref:\n",
        "    zip_ref.extractall('/datasets')"
      ],
      "execution_count": null,
      "outputs": []
    },
    {
      "cell_type": "code",
      "metadata": {
        "id": "fJ_Mkv8sdiLg",
        "colab_type": "code",
        "colab": {}
      },
      "source": [
        "import gensim\n",
        "from gensim.models import word2vec\n",
        "from gensim.models import KeyedVectors\n",
        "from sklearn.metrics.pairwise import cosine_similarity"
      ],
      "execution_count": 3,
      "outputs": []
    },
    {
      "cell_type": "code",
      "metadata": {
        "id": "65q1dZ9XhnST",
        "colab_type": "code",
        "colab": {}
      },
      "source": [
        "import os\n",
        "os.chdir(\"/datasets\")\n",
        "word_vectors = keyedVectors.load_word2vec_format('GoogleNews-vectors-negative300.bin',binary=True)"
      ],
      "execution_count": null,
      "outputs": []
    },
    {
      "cell_type": "code",
      "metadata": {
        "id": "uEBdxND_gyXS",
        "colab_type": "code",
        "colab": {}
      },
      "source": [
        "input_1 = [\"apple\",\"mango\",\"party\",\"orange\"]\n",
        "input_2 = [\"music\",\"dance\",\"sleep\",\"dancer\",\"food\"]\n",
        "input_3 = [\"match\",\"player\",\"football\",\"cricket\",\"dancer\"]\n",
        "input_4 = [\"india\",\"paris\",\"russia\",\"france\",\"germany\"]"
      ],
      "execution_count": 4,
      "outputs": []
    },
    {
      "cell_type": "code",
      "metadata": {
        "id": "TQGFrTCnnTy5",
        "colab_type": "code",
        "colab": {}
      },
      "source": [
        "def odd_one_out(words):\n",
        "  all_word_vectors = [word_vectors[w] for w in words]\n",
        "  avg_vector = np.mean(all_word_vectors,axis=0)\n",
        "  print(avg_vector.shape)\n",
        "  \n",
        "  odd_one_out = None\n",
        "  min_similarity = 1.0\n",
        "\n",
        "  for w in words:\n",
        "    sim = cosine_similarity([word_vectors[w]],[avg_vector])\n",
        "    if sim < min_similarity :\n",
        "      min_similarity = sim\n",
        "      odd_one_out = w\n",
        "  return odd_one_out"
      ],
      "execution_count": null,
      "outputs": []
    },
    {
      "cell_type": "code",
      "metadata": {
        "id": "5Ffa53KqrPqi",
        "colab_type": "code",
        "colab": {}
      },
      "source": [
        "print(odd_one_out(input_1))\n",
        "print(odd_one_out(input_2))"
      ],
      "execution_count": null,
      "outputs": []
    }
  ]
}